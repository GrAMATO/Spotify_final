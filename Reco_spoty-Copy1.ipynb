{
 "cells": [
  {
   "cell_type": "code",
   "execution_count": 1,
   "metadata": {},
   "outputs": [],
   "source": [
    "import pandas as pd\n",
    "import requests\n",
    "import numpy as np"
   ]
  },
  {
   "cell_type": "code",
   "execution_count": 2,
   "metadata": {},
   "outputs": [],
   "source": [
    "playlists = pd.read_csv(\"moyennes_playlists.csv\")"
   ]
  },
  {
   "cell_type": "code",
   "execution_count": 2,
   "metadata": {},
   "outputs": [],
   "source": [
    "import opti2 as opt"
   ]
  },
  {
   "cell_type": "code",
   "execution_count": 12,
   "metadata": {},
   "outputs": [
    {
     "data": {
      "text/html": [
       "<div>\n",
       "<style scoped>\n",
       "    .dataframe tbody tr th:only-of-type {\n",
       "        vertical-align: middle;\n",
       "    }\n",
       "\n",
       "    .dataframe tbody tr th {\n",
       "        vertical-align: top;\n",
       "    }\n",
       "\n",
       "    .dataframe thead th {\n",
       "        text-align: right;\n",
       "    }\n",
       "</style>\n",
       "<table border=\"1\" class=\"dataframe\">\n",
       "  <thead>\n",
       "    <tr style=\"text-align: right;\">\n",
       "      <th></th>\n",
       "      <th>med_popularity</th>\n",
       "      <th>url</th>\n",
       "      <th>id</th>\n",
       "      <th>names</th>\n",
       "      <th>med_valence</th>\n",
       "      <th>med_danceability</th>\n",
       "      <th>med_energy</th>\n",
       "      <th>med_acousticness</th>\n",
       "      <th>med_speechiness</th>\n",
       "      <th>med_instrumentalness</th>\n",
       "    </tr>\n",
       "  </thead>\n",
       "  <tbody>\n",
       "    <tr>\n",
       "      <th>332</th>\n",
       "      <td>39.0</td>\n",
       "      <td>https://open.spotify.com/playlist/37i9dQZF1DWS...</td>\n",
       "      <td>37i9dQZF1DWSRoT7QRAibZ</td>\n",
       "      <td>Comedy Top Tracks</td>\n",
       "      <td>0.3245</td>\n",
       "      <td>0.5475</td>\n",
       "      <td>0.8890</td>\n",
       "      <td>0.8095</td>\n",
       "      <td>0.9260</td>\n",
       "      <td>0.0</td>\n",
       "    </tr>\n",
       "    <tr>\n",
       "      <th>329</th>\n",
       "      <td>21.5</td>\n",
       "      <td>https://open.spotify.com/playlist/37i9dQZF1DX8...</td>\n",
       "      <td>37i9dQZF1DX8NZFqAdV1lo</td>\n",
       "      <td>Unsolicited Advice</td>\n",
       "      <td>0.3595</td>\n",
       "      <td>0.5360</td>\n",
       "      <td>0.6640</td>\n",
       "      <td>0.8265</td>\n",
       "      <td>0.9305</td>\n",
       "      <td>0.0</td>\n",
       "    </tr>\n",
       "    <tr>\n",
       "      <th>335</th>\n",
       "      <td>20.0</td>\n",
       "      <td>https://open.spotify.com/playlist/37i9dQZF1DX9...</td>\n",
       "      <td>37i9dQZF1DX9O8pzsnCkf6</td>\n",
       "      <td>Women of Comedy</td>\n",
       "      <td>0.4035</td>\n",
       "      <td>0.5640</td>\n",
       "      <td>0.7655</td>\n",
       "      <td>0.8315</td>\n",
       "      <td>0.9310</td>\n",
       "      <td>0.0</td>\n",
       "    </tr>\n",
       "    <tr>\n",
       "      <th>328</th>\n",
       "      <td>19.0</td>\n",
       "      <td>https://open.spotify.com/playlist/37i9dQZF1DXd...</td>\n",
       "      <td>37i9dQZF1DXdEXmWwCHnI5</td>\n",
       "      <td>Office Offensive</td>\n",
       "      <td>0.4780</td>\n",
       "      <td>0.5380</td>\n",
       "      <td>0.7090</td>\n",
       "      <td>0.8230</td>\n",
       "      <td>0.9210</td>\n",
       "      <td>0.0</td>\n",
       "    </tr>\n",
       "    <tr>\n",
       "      <th>334</th>\n",
       "      <td>18.0</td>\n",
       "      <td>https://open.spotify.com/playlist/37i9dQZF1DWW...</td>\n",
       "      <td>37i9dQZF1DWWsTBFM3ksVb</td>\n",
       "      <td>The Funny Thing About Football Is...</td>\n",
       "      <td>0.3890</td>\n",
       "      <td>0.5560</td>\n",
       "      <td>0.8135</td>\n",
       "      <td>0.8160</td>\n",
       "      <td>0.9290</td>\n",
       "      <td>0.0</td>\n",
       "    </tr>\n",
       "    <tr>\n",
       "      <th>...</th>\n",
       "      <td>...</td>\n",
       "      <td>...</td>\n",
       "      <td>...</td>\n",
       "      <td>...</td>\n",
       "      <td>...</td>\n",
       "      <td>...</td>\n",
       "      <td>...</td>\n",
       "      <td>...</td>\n",
       "      <td>...</td>\n",
       "      <td>...</td>\n",
       "    </tr>\n",
       "    <tr>\n",
       "      <th>850</th>\n",
       "      <td>0.0</td>\n",
       "      <td>https://open.spotify.com/playlist/37i9dQZF1DWZ...</td>\n",
       "      <td>37i9dQZF1DWZxkZk4wnQ5T</td>\n",
       "      <td>The Victorians</td>\n",
       "      <td>0.4175</td>\n",
       "      <td>0.7120</td>\n",
       "      <td>0.1310</td>\n",
       "      <td>0.6900</td>\n",
       "      <td>0.9370</td>\n",
       "      <td>0.0</td>\n",
       "    </tr>\n",
       "    <tr>\n",
       "      <th>860</th>\n",
       "      <td>0.0</td>\n",
       "      <td>https://open.spotify.com/playlist/37i9dQZF1DWV...</td>\n",
       "      <td>37i9dQZF1DWV1duDvis8iF</td>\n",
       "      <td>Irish Lit</td>\n",
       "      <td>0.3405</td>\n",
       "      <td>0.6460</td>\n",
       "      <td>0.1800</td>\n",
       "      <td>0.8260</td>\n",
       "      <td>0.9015</td>\n",
       "      <td>0.0</td>\n",
       "    </tr>\n",
       "    <tr>\n",
       "      <th>844</th>\n",
       "      <td>0.0</td>\n",
       "      <td>https://open.spotify.com/playlist/37i9dQZF1DWZ...</td>\n",
       "      <td>37i9dQZF1DWZDPloxGJ3JZ</td>\n",
       "      <td>The Romantics</td>\n",
       "      <td>0.3800</td>\n",
       "      <td>0.6890</td>\n",
       "      <td>0.1075</td>\n",
       "      <td>0.7875</td>\n",
       "      <td>0.7615</td>\n",
       "      <td>0.0</td>\n",
       "    </tr>\n",
       "    <tr>\n",
       "      <th>862</th>\n",
       "      <td>0.0</td>\n",
       "      <td>https://open.spotify.com/playlist/37i9dQZF1DX8...</td>\n",
       "      <td>37i9dQZF1DX8pbyATDkUwW</td>\n",
       "      <td>La littérature française</td>\n",
       "      <td>0.3865</td>\n",
       "      <td>0.6390</td>\n",
       "      <td>0.1935</td>\n",
       "      <td>0.8255</td>\n",
       "      <td>0.9150</td>\n",
       "      <td>0.0</td>\n",
       "    </tr>\n",
       "    <tr>\n",
       "      <th>853</th>\n",
       "      <td>0.0</td>\n",
       "      <td>https://open.spotify.com/playlist/37i9dQZF1DX8...</td>\n",
       "      <td>37i9dQZF1DX8uVDy7wwKj9</td>\n",
       "      <td>The Brontës</td>\n",
       "      <td>0.2745</td>\n",
       "      <td>0.6905</td>\n",
       "      <td>0.1230</td>\n",
       "      <td>0.6420</td>\n",
       "      <td>0.9310</td>\n",
       "      <td>0.0</td>\n",
       "    </tr>\n",
       "  </tbody>\n",
       "</table>\n",
       "<p>64 rows × 10 columns</p>\n",
       "</div>"
      ],
      "text/plain": [
       "     med_popularity                                                url  \\\n",
       "332            39.0  https://open.spotify.com/playlist/37i9dQZF1DWS...   \n",
       "329            21.5  https://open.spotify.com/playlist/37i9dQZF1DX8...   \n",
       "335            20.0  https://open.spotify.com/playlist/37i9dQZF1DX9...   \n",
       "328            19.0  https://open.spotify.com/playlist/37i9dQZF1DXd...   \n",
       "334            18.0  https://open.spotify.com/playlist/37i9dQZF1DWW...   \n",
       "..              ...                                                ...   \n",
       "850             0.0  https://open.spotify.com/playlist/37i9dQZF1DWZ...   \n",
       "860             0.0  https://open.spotify.com/playlist/37i9dQZF1DWV...   \n",
       "844             0.0  https://open.spotify.com/playlist/37i9dQZF1DWZ...   \n",
       "862             0.0  https://open.spotify.com/playlist/37i9dQZF1DX8...   \n",
       "853             0.0  https://open.spotify.com/playlist/37i9dQZF1DX8...   \n",
       "\n",
       "                         id                                 names  \\\n",
       "332  37i9dQZF1DWSRoT7QRAibZ                     Comedy Top Tracks   \n",
       "329  37i9dQZF1DX8NZFqAdV1lo                    Unsolicited Advice   \n",
       "335  37i9dQZF1DX9O8pzsnCkf6                       Women of Comedy   \n",
       "328  37i9dQZF1DXdEXmWwCHnI5                      Office Offensive   \n",
       "334  37i9dQZF1DWWsTBFM3ksVb  The Funny Thing About Football Is...   \n",
       "..                      ...                                   ...   \n",
       "850  37i9dQZF1DWZxkZk4wnQ5T                        The Victorians   \n",
       "860  37i9dQZF1DWV1duDvis8iF                             Irish Lit   \n",
       "844  37i9dQZF1DWZDPloxGJ3JZ                         The Romantics   \n",
       "862  37i9dQZF1DX8pbyATDkUwW              La littérature française   \n",
       "853  37i9dQZF1DX8uVDy7wwKj9                           The Brontës   \n",
       "\n",
       "     med_valence  med_danceability  med_energy  med_acousticness  \\\n",
       "332       0.3245            0.5475      0.8890            0.8095   \n",
       "329       0.3595            0.5360      0.6640            0.8265   \n",
       "335       0.4035            0.5640      0.7655            0.8315   \n",
       "328       0.4780            0.5380      0.7090            0.8230   \n",
       "334       0.3890            0.5560      0.8135            0.8160   \n",
       "..           ...               ...         ...               ...   \n",
       "850       0.4175            0.7120      0.1310            0.6900   \n",
       "860       0.3405            0.6460      0.1800            0.8260   \n",
       "844       0.3800            0.6890      0.1075            0.7875   \n",
       "862       0.3865            0.6390      0.1935            0.8255   \n",
       "853       0.2745            0.6905      0.1230            0.6420   \n",
       "\n",
       "     med_speechiness  med_instrumentalness  \n",
       "332           0.9260                   0.0  \n",
       "329           0.9305                   0.0  \n",
       "335           0.9310                   0.0  \n",
       "328           0.9210                   0.0  \n",
       "334           0.9290                   0.0  \n",
       "..               ...                   ...  \n",
       "850           0.9370                   0.0  \n",
       "860           0.9015                   0.0  \n",
       "844           0.7615                   0.0  \n",
       "862           0.9150                   0.0  \n",
       "853           0.9310                   0.0  \n",
       "\n",
       "[64 rows x 10 columns]"
      ]
     },
     "execution_count": 12,
     "metadata": {},
     "output_type": "execute_result"
    }
   ],
   "source": [
    "opt.final_opti(\"peu_importe\", \"peu_importe\", \"peu_importe\", \"peu_importe\", \"oui\", \"peu_importe\")"
   ]
  },
  {
   "cell_type": "code",
   "execution_count": 16,
   "metadata": {},
   "outputs": [
    {
     "data": {
      "text/html": [
       "<div>\n",
       "<style scoped>\n",
       "    .dataframe tbody tr th:only-of-type {\n",
       "        vertical-align: middle;\n",
       "    }\n",
       "\n",
       "    .dataframe tbody tr th {\n",
       "        vertical-align: top;\n",
       "    }\n",
       "\n",
       "    .dataframe thead th {\n",
       "        text-align: right;\n",
       "    }\n",
       "</style>\n",
       "<table border=\"1\" class=\"dataframe\">\n",
       "  <thead>\n",
       "    <tr style=\"text-align: right;\">\n",
       "      <th></th>\n",
       "      <th>med_popularity</th>\n",
       "      <th>url</th>\n",
       "    </tr>\n",
       "  </thead>\n",
       "  <tbody>\n",
       "    <tr>\n",
       "      <th>1</th>\n",
       "      <td>89.0</td>\n",
       "      <td>https://open.spotify.com/playlist/37i9dQZF1DXc...</td>\n",
       "    </tr>\n",
       "    <tr>\n",
       "      <th>2</th>\n",
       "      <td>78.5</td>\n",
       "      <td>https://open.spotify.com/playlist/37i9dQZF1DX0...</td>\n",
       "    </tr>\n",
       "    <tr>\n",
       "      <th>3</th>\n",
       "      <td>71.0</td>\n",
       "      <td>https://open.spotify.com/playlist/37i9dQZF1DX1...</td>\n",
       "    </tr>\n",
       "    <tr>\n",
       "      <th>4</th>\n",
       "      <td>82.5</td>\n",
       "      <td>https://open.spotify.com/playlist/37i9dQZF1DX1...</td>\n",
       "    </tr>\n",
       "    <tr>\n",
       "      <th>5</th>\n",
       "      <td>17.0</td>\n",
       "      <td>https://open.spotify.com/playlist/37i9dQZF1DX4...</td>\n",
       "    </tr>\n",
       "    <tr>\n",
       "      <th>...</th>\n",
       "      <td>...</td>\n",
       "      <td>...</td>\n",
       "    </tr>\n",
       "    <tr>\n",
       "      <th>1394</th>\n",
       "      <td>65.0</td>\n",
       "      <td>https://open.spotify.com/playlist/37i9dQZF1DX3...</td>\n",
       "    </tr>\n",
       "    <tr>\n",
       "      <th>1395</th>\n",
       "      <td>71.5</td>\n",
       "      <td>https://open.spotify.com/playlist/5ji4GZJpll6t...</td>\n",
       "    </tr>\n",
       "    <tr>\n",
       "      <th>1396</th>\n",
       "      <td>50.5</td>\n",
       "      <td>https://open.spotify.com/playlist/40VxbK9Nqccd...</td>\n",
       "    </tr>\n",
       "    <tr>\n",
       "      <th>1397</th>\n",
       "      <td>71.0</td>\n",
       "      <td>https://open.spotify.com/playlist/0RTz1jFo5BXG...</td>\n",
       "    </tr>\n",
       "    <tr>\n",
       "      <th>1398</th>\n",
       "      <td>74.0</td>\n",
       "      <td>https://open.spotify.com/playlist/4lgseztVwmKQ...</td>\n",
       "    </tr>\n",
       "  </tbody>\n",
       "</table>\n",
       "<p>1395 rows × 2 columns</p>\n",
       "</div>"
      ],
      "text/plain": [
       "      med_popularity                                                url\n",
       "1               89.0  https://open.spotify.com/playlist/37i9dQZF1DXc...\n",
       "2               78.5  https://open.spotify.com/playlist/37i9dQZF1DX0...\n",
       "3               71.0  https://open.spotify.com/playlist/37i9dQZF1DX1...\n",
       "4               82.5  https://open.spotify.com/playlist/37i9dQZF1DX1...\n",
       "5               17.0  https://open.spotify.com/playlist/37i9dQZF1DX4...\n",
       "...              ...                                                ...\n",
       "1394            65.0  https://open.spotify.com/playlist/37i9dQZF1DX3...\n",
       "1395            71.5  https://open.spotify.com/playlist/5ji4GZJpll6t...\n",
       "1396            50.5  https://open.spotify.com/playlist/40VxbK9Nqccd...\n",
       "1397            71.0  https://open.spotify.com/playlist/0RTz1jFo5BXG...\n",
       "1398            74.0  https://open.spotify.com/playlist/4lgseztVwmKQ...\n",
       "\n",
       "[1395 rows x 2 columns]"
      ]
     },
     "execution_count": 16,
     "metadata": {},
     "output_type": "execute_result"
    }
   ],
   "source": [
    "playlists_no_na[[\"med_popularity\", \"url\"]]"
   ]
  },
  {
   "cell_type": "code",
   "execution_count": 1,
   "metadata": {},
   "outputs": [
    {
     "name": "stderr",
     "output_type": "stream",
     "text": [
      "C:\\Users\\grego\\anaconda3\\lib\\site-packages\\IPython\\core\\interactiveshell.py:3146: DtypeWarning: Columns (19) have mixed types.Specify dtype option on import or set low_memory=False.\n",
      "  has_raised = await self.run_ast_nodes(code_ast.body, cell_name,\n"
     ]
    }
   ],
   "source": []
  },
  {
   "cell_type": "code",
   "execution_count": null,
   "metadata": {},
   "outputs": [],
   "source": []
  },
  {
   "cell_type": "code",
   "execution_count": null,
   "metadata": {},
   "outputs": [],
   "source": [
    "def opti(objectif_min, objectif_max, playlists, dict_output):\n",
    "    \"\"\"Sélectionne dans un premier temps les playlists qui correspondent aux critères puis trie la liste obtenue en fonction de la popularité.\"\"\"\n",
    "    playlists_no_na = playlists.dropna()\n",
    "    playlists_med = playlists_no_na.iloc[:, 10:16].reset_index(drop=True)\n",
    "    for i, j, k in zip(list(playlists_med.columns), objectif_min, objectif_max):\n",
    "        playlists_med[str(i) + \"_filtre\"] = playlists_med[(playlists_med[i]>=j) & (playlists_med[i]<=k)][i]\n",
    "    return playlists_med.join(playlists_no_na[\"med_popularity\"]).dropna().sort_values(\"med_popularity\", ascending = False).reset_index(drop=True)"
   ]
  },
  {
   "cell_type": "code",
   "execution_count": 209,
   "metadata": {},
   "outputs": [
    {
     "data": {
      "text/plain": [
       "([0.8, 0.75, 0, 0.75, 0.25, 0.5], [1, 1, 1, 1, 0.5, 1])"
      ]
     },
     "execution_count": 209,
     "metadata": {},
     "output_type": "execute_result"
    }
   ],
   "source": [
    "fill_dict(\"tres_joyeuse\", \"oui\", \"peu_importe\", \"acoustiques\", \"pas_vraiment\", \"majorite_chantees\")"
   ]
  },
  {
   "cell_type": "markdown",
   "metadata": {},
   "source": [
    "# Regarde pas"
   ]
  },
  {
   "cell_type": "code",
   "execution_count": 88,
   "metadata": {},
   "outputs": [],
   "source": [
    "user = 'TestAccountlab'\n",
    "repo = 'spotify_app_data' \n",
    "token = \"fead267f1c2020f164d8ea7467cfd1273d96eb05\"\n",
    "\n",
    "message = json.dumps({\"message\":\"update\",\n",
    "                            \"content\": encodedStr ,\n",
    "                            \"sha\": \"6c805bf503e2d2af800dac610935c27c85b9daa8\"\n",
    "                            })\n",
    "\n",
    "headers = {'Authorization': 'token ' + token}\n",
    "\n",
    "login2 = requests.put('https://api.github.com/repos/' + user + '/' + repo + '/contents/test_data.json' , headers=headers, data=message)\n",
    "                      #\"https://api.github.com/repos/\"+repo+\"/contents/\"+filename"
   ]
  },
  {
   "cell_type": "code",
   "execution_count": 64,
   "metadata": {},
   "outputs": [
    {
     "data": {
      "text/plain": [
       "'ewogICAidXNlcnMiOlsidXNlcjEiLCAidXNlcjIiCiAgICAgIAogICBdLAog\\nICAicGFzc3dvcmQiOlsiMTIzNDUiLCAiNjc4OTEwIgogICAgICAKICAgXSwK\\nICAgImRhdGEiOlsKICAgICAgCiAgIF0KfQo=\\n'"
      ]
     },
     "execution_count": 64,
     "metadata": {},
     "output_type": "execute_result"
    }
   ],
   "source": [
    "login.json()['content']"
   ]
  },
  {
   "cell_type": "code",
   "execution_count": 89,
   "metadata": {},
   "outputs": [
    {
     "data": {
      "text/plain": [
       "{'content': {'name': 'test_data.json',\n",
       "  'path': 'test_data.json',\n",
       "  'sha': '0db1fad91762f67d818b166d94a6a2b9978e53f9',\n",
       "  'size': 80,\n",
       "  'url': 'https://api.github.com/repos/TestAccountlab/spotify_app_data/contents/test_data.json?ref=main',\n",
       "  'html_url': 'https://github.com/TestAccountlab/spotify_app_data/blob/main/test_data.json',\n",
       "  'git_url': 'https://api.github.com/repos/TestAccountlab/spotify_app_data/git/blobs/0db1fad91762f67d818b166d94a6a2b9978e53f9',\n",
       "  'download_url': 'https://raw.githubusercontent.com/TestAccountlab/spotify_app_data/main/test_data.json?token=ATNTSZHX3AT7WFTLS3FF243AL5UFQ',\n",
       "  'type': 'file',\n",
       "  '_links': {'self': 'https://api.github.com/repos/TestAccountlab/spotify_app_data/contents/test_data.json?ref=main',\n",
       "   'git': 'https://api.github.com/repos/TestAccountlab/spotify_app_data/git/blobs/0db1fad91762f67d818b166d94a6a2b9978e53f9',\n",
       "   'html': 'https://github.com/TestAccountlab/spotify_app_data/blob/main/test_data.json'}},\n",
       " 'commit': {'sha': '7daab2d9db4ea2101e1c3a0218b02f316ab7dc15',\n",
       "  'node_id': 'MDY6Q29tbWl0MzUyMDkyOTgzOjdkYWFiMmQ5ZGI0ZWEyMTAxZTFjM2EwMjE4YjAyZjMxNmFiN2RjMTU=',\n",
       "  'url': 'https://api.github.com/repos/TestAccountlab/spotify_app_data/git/commits/7daab2d9db4ea2101e1c3a0218b02f316ab7dc15',\n",
       "  'html_url': 'https://github.com/TestAccountlab/spotify_app_data/commit/7daab2d9db4ea2101e1c3a0218b02f316ab7dc15',\n",
       "  'author': {'name': 'TestAccountlab',\n",
       "   'email': '81475940+TestAccountlab@users.noreply.github.com',\n",
       "   'date': '2021-03-27T17:15:08Z'},\n",
       "  'committer': {'name': 'TestAccountlab',\n",
       "   'email': '81475940+TestAccountlab@users.noreply.github.com',\n",
       "   'date': '2021-03-27T17:15:08Z'},\n",
       "  'tree': {'sha': 'c93dda2c835298db10f4fb3e62fc875a11b0fb42',\n",
       "   'url': 'https://api.github.com/repos/TestAccountlab/spotify_app_data/git/trees/c93dda2c835298db10f4fb3e62fc875a11b0fb42'},\n",
       "  'message': 'update',\n",
       "  'parents': [{'sha': '19e2fe7fd1db869017d4bdb26670062470ebdda7',\n",
       "    'url': 'https://api.github.com/repos/TestAccountlab/spotify_app_data/git/commits/19e2fe7fd1db869017d4bdb26670062470ebdda7',\n",
       "    'html_url': 'https://github.com/TestAccountlab/spotify_app_data/commit/19e2fe7fd1db869017d4bdb26670062470ebdda7'}],\n",
       "  'verification': {'verified': False,\n",
       "   'reason': 'unsigned',\n",
       "   'signature': None,\n",
       "   'payload': None}}}"
      ]
     },
     "execution_count": 89,
     "metadata": {},
     "output_type": "execute_result"
    }
   ],
   "source": [
    "login2.json()"
   ]
  },
  {
   "cell_type": "code",
   "execution_count": 68,
   "metadata": {},
   "outputs": [
    {
     "data": {
      "text/plain": [
       "str"
      ]
     },
     "execution_count": 68,
     "metadata": {},
     "output_type": "execute_result"
    }
   ],
   "source": [
    "message"
   ]
  },
  {
   "cell_type": "code",
   "execution_count": 38,
   "metadata": {},
   "outputs": [
    {
     "ename": "NameError",
     "evalue": "name 'json' is not defined",
     "output_type": "error",
     "traceback": [
      "\u001b[1;31m---------------------------------------------------------------------------\u001b[0m",
      "\u001b[1;31mNameError\u001b[0m                                 Traceback (most recent call last)",
      "\u001b[1;32m<ipython-input-38-69839ffb9de3>\u001b[0m in \u001b[0;36m<module>\u001b[1;34m\u001b[0m\n\u001b[0;32m      5\u001b[0m \u001b[1;31m# Standard Base64 Decoding\u001b[0m\u001b[1;33m\u001b[0m\u001b[1;33m\u001b[0m\u001b[1;33m\u001b[0m\u001b[0m\n\u001b[0;32m      6\u001b[0m \u001b[0mdecodedBytes\u001b[0m \u001b[1;33m=\u001b[0m \u001b[0mbase64\u001b[0m\u001b[1;33m.\u001b[0m\u001b[0mb64decode\u001b[0m\u001b[1;33m(\u001b[0m\u001b[0mencodedStr\u001b[0m\u001b[1;33m)\u001b[0m\u001b[1;33m\u001b[0m\u001b[1;33m\u001b[0m\u001b[0m\n\u001b[1;32m----> 7\u001b[1;33m \u001b[0mdecodedStr\u001b[0m \u001b[1;33m=\u001b[0m \u001b[0mjson\u001b[0m\u001b[1;33m(\u001b[0m\u001b[0mdecodedBytes\u001b[0m\u001b[1;33m,\u001b[0m \u001b[1;34m\"utf-8\"\u001b[0m\u001b[1;33m)\u001b[0m\u001b[1;33m\u001b[0m\u001b[1;33m\u001b[0m\u001b[0m\n\u001b[0m\u001b[0;32m      8\u001b[0m \u001b[1;33m\u001b[0m\u001b[0m\n\u001b[0;32m      9\u001b[0m \u001b[0mprint\u001b[0m\u001b[1;33m(\u001b[0m\u001b[0mdecodedStr\u001b[0m\u001b[1;33m)\u001b[0m\u001b[1;33m\u001b[0m\u001b[1;33m\u001b[0m\u001b[0m\n",
      "\u001b[1;31mNameError\u001b[0m: name 'json' is not defined"
     ]
    }
   ],
   "source": [
    "import base64\n",
    "\n",
    "encodedStr = login.json()['content']\n",
    "\n",
    "# Standard Base64 Decoding\n",
    "decodedBytes = base64.b64decode(encodedStr)\n",
    "decodedStr = json(decodedBytes, \"utf-8\")\n",
    "\n",
    "print(decodedStr)\n",
    "test_data = decodedStr"
   ]
  },
  {
   "cell_type": "code",
   "execution_count": 56,
   "metadata": {},
   "outputs": [],
   "source": [
    "test_change = json.loads(test_data)\n",
    "test_change[\"data\"].append(\"test\")\n"
   ]
  },
  {
   "cell_type": "code",
   "execution_count": null,
   "metadata": {},
   "outputs": [],
   "source": []
  },
  {
   "cell_type": "code",
   "execution_count": 87,
   "metadata": {},
   "outputs": [],
   "source": [
    "test_change64 = base64.b64encode(str(test_change).encode(\"utf-8\"))\n",
    "encodedStr = str(test_change64, \"utf-8\")"
   ]
  },
  {
   "cell_type": "code",
   "execution_count": null,
   "metadata": {},
   "outputs": [],
   "source": [
    "{\n",
    "   \"users\":[\n",
    "      \n",
    "   ],\n",
    "   \"password\":[\n",
    "      \n",
    "   ],\n",
    "   \"data\":[\n",
    "      \n",
    "   ]\n",
    "}"
   ]
  },
  {
   "cell_type": "code",
   "execution_count": 40,
   "metadata": {},
   "outputs": [],
   "source": [
    "import json"
   ]
  },
  {
   "cell_type": "code",
   "execution_count": 57,
   "metadata": {},
   "outputs": [
    {
     "data": {
      "text/plain": [
       "{'users': ['user1', 'user2'],\n",
       " 'password': ['12345', '678910'],\n",
       " 'data': ['test']}"
      ]
     },
     "execution_count": 57,
     "metadata": {},
     "output_type": "execute_result"
    }
   ],
   "source": [
    "test_change"
   ]
  },
  {
   "cell_type": "code",
   "execution_count": null,
   "metadata": {},
   "outputs": [],
   "source": []
  }
 ],
 "metadata": {
  "kernelspec": {
   "display_name": "Python 3",
   "language": "python",
   "name": "python3"
  },
  "language_info": {
   "codemirror_mode": {
    "name": "ipython",
    "version": 3
   },
   "file_extension": ".py",
   "mimetype": "text/x-python",
   "name": "python",
   "nbconvert_exporter": "python",
   "pygments_lexer": "ipython3",
   "version": "3.8.5"
  }
 },
 "nbformat": 4,
 "nbformat_minor": 4
}
