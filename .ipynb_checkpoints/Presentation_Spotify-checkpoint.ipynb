{
 "cells": [
  {
   "cell_type": "markdown",
   "metadata": {},
   "source": [
    "# Présentation projet Spotify Big Data\n",
    "\n",
    "## Objectif \n",
    "\n",
    "L'objectif du projet est de construire une application Shiny permettant de faire de la recommandations de playlists Spotify. Nous avons également souhaité lors de ce projet, utiliser une fonctionnalité de RStudio permettant d'intégrer du code Python, et donc effectuer un interfaçage R/Python. Ainsi, l'application Shiny utilise à la fois du code R et du code Python. \n",
    "\n",
    "## Récupération des données\n",
    "\n",
    "Pour effectuer de la recommandation de playlists, voici les données nécessaires :\n",
    "\n",
    "- Données sur les playlists (nom, référence...)\n",
    "- Données sur les titres de chaque playlist (nom, référence...)\n",
    "- Analyse de chaque titre \n",
    "\n",
    "Afin de cadrer nos recherches, nous nous sommes restreints aux playlists créées par Spotify (playlists créées par l'utilisateur Spotify). L'entreprise met à disposition librement et gratuitement ses données via une API ouverte (Application Programming Interface/Interface de Programmation d'Applications). Une API est un ensemble de méthodes mises à disposition par une entreprise, un logiciel... afin d'être utilisé par une autre application (exemple google maps, si un site veut intégrer une carte pour pouvoir situer facilement ses locaux, il peut utiliser l'API de google maps). Elle peut être gratuite ou payante, libre d'accès ou non.   \n",
    "\n",
    "Pour utiliser une API, il est en général demandé de fournir une clé API (dans notre cas fournie lors de la création d'un compte développeur Spotify). Dans le cas Spotify il était également demandé de fournir un jeton d'accès (token) expirant toutes les heures. Ensuite, il est possible de commencer à construire les requêtes. Dans certains cas, il peut exister des packages afin de faciliter l'utilisation de l'API, nous avons choisi cette fois-ci de ne pas les utiliser afin de mieux comprendre le fonctionnement et la constructions des requêtes. \n",
    "\n",
    "Le script Python permettant de récupérer les données de l'API est donc segmenté en 4 fonctions principales :\n",
    "\n",
    "- Une fonction permettant de générer un token d'accès dès que le précédent expire\n",
    "- Une fonction permettant de récupérer les données de playlists, titres et les analyses\n",
    "\n",
    "\n"
   ]
  }
 ],
 "metadata": {
  "kernelspec": {
   "display_name": "Python 3",
   "language": "python",
   "name": "python3"
  },
  "language_info": {
   "codemirror_mode": {
    "name": "ipython",
    "version": 3
   },
   "file_extension": ".py",
   "mimetype": "text/x-python",
   "name": "python",
   "nbconvert_exporter": "python",
   "pygments_lexer": "ipython3",
   "version": "3.8.5"
  }
 },
 "nbformat": 4,
 "nbformat_minor": 4
}
